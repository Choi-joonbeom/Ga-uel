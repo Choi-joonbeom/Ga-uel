{
  "nbformat": 4,
  "nbformat_minor": 0,
  "metadata": {
    "colab": {
      "name": "1주차과제.ipynb",
      "provenance": [],
      "authorship_tag": "ABX9TyOe+r+iMCeWXuJMJgiJel69",
      "include_colab_link": true
    },
    "kernelspec": {
      "name": "python3",
      "display_name": "Python 3"
    }
  },
  "cells": [
    {
      "cell_type": "markdown",
      "metadata": {
        "id": "view-in-github",
        "colab_type": "text"
      },
      "source": [
        "<a href=\"https://colab.research.google.com/github/Choi-joonbeom/Ga-uel/blob/master/1%EC%A3%BC%EC%B0%A8%EA%B3%BC%EC%A0%9C.ipynb\" target=\"_parent\"><img src=\"https://colab.research.google.com/assets/colab-badge.svg\" alt=\"Open In Colab\"/></a>"
      ]
    },
    {
      "cell_type": "markdown",
      "metadata": {
        "id": "EO7e23QLvAWX",
        "colab_type": "text"
      },
      "source": [
        "# __*1주차과제*__\n",
        "* ## 인공지능 기술을 사용한 4가지 분야의 제품 및 서비스\n",
        "* ### 인공지능 언어 분야(파파고)\n",
        "* ### 인공지능 음성 분야(아이폰 시리)\n",
        "* ### 인공지능 이미지 분야\n",
        "* ### 인공지능 자율주행 분야\n",
        "---\n",
        "<링크>\n",
        "1. [파파고](https://m.post.naver.com/viewer/postView.nhn?volumeNo=5446014&memberNo=1217380&vType=VERTICAL)\n",
        "2. [아이폰 시리 소개](https://blog.naver.com/parkjw10004/221431740835)\n",
        "\n",
        "![시리 사용법](https://www.google.com/url?sa=i&url=https%3A%2F%2Fcronginfo.tistory.com%2Fentry%2F%25EC%2595%2584%25EC%259D%25B4%25ED%258F%25B0-%25EC%258B%259C%25EB%25A6%25AC-%25EC%2582%25AC%25EC%259A%25A9-%25EC%2584%25A4%25EC%25A0%2595-%25EB%25B0%258F-%25EC%258B%259C%25EB%25A6%25AC%25EC%2595%25BC-%25EC%2584%25A4%25EC%25A0%2595-%25ED%2597%2588%25EC%259A%25A9-%25EC%2582%25AC%25EC%259A%25A9-%25EB%25B0%25A9%25EB%25B2%2595-%25EC%2595%258C%25EC%2595%2584%25EB%25B3%25B4%25EA%25B8%25B0&psig=AOvVaw0ZED-Aa1CvRfR26HWxZZw1&ust=1591494408066000&source=images&cd=vfe&ved=0CAIQjRxqFwoTCICO2_KI7OkCFQAAAAAdAAAAABAD)\n",
        "3. \n",
        "4. "
      ]
    }
  ]
}