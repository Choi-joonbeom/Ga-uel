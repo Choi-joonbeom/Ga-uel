{
  "nbformat": 4,
  "nbformat_minor": 0,
  "metadata": {
    "colab": {
      "name": "1주차과제.ipynb",
      "provenance": [],
      "authorship_tag": "ABX9TyNwk3QUCrYVk2Ih4lKNeFpe",
      "include_colab_link": true
    },
    "kernelspec": {
      "name": "python3",
      "display_name": "Python 3"
    }
  },
  "cells": [
    {
      "cell_type": "markdown",
      "metadata": {
        "id": "view-in-github",
        "colab_type": "text"
      },
      "source": [
        "<a href=\"https://colab.research.google.com/github/Choi-joonbeom/Ga-uel/blob/master/1%EC%A3%BC%EC%B0%A8%EA%B3%BC%EC%A0%9C.ipynb\" target=\"_parent\"><img src=\"https://colab.research.google.com/assets/colab-badge.svg\" alt=\"Open In Colab\"/></a>"
      ]
    },
    {
      "cell_type": "markdown",
      "metadata": {
        "id": "EO7e23QLvAWX",
        "colab_type": "text"
      },
      "source": [
        "* # __1주차과제__\n",
        " * ## 인공지능 기술을 사용한 4가지 분야의 제품 및 서비스\n",
        " ----\n",
        " * ### 인공지능 언어 분야(파파고)\n",
        " 자동번역과 같은 시스템을 실용화한 서비스\n",
        " * ### 인공지능 음성 분야(아이폰 시리)\n",
        " 음성인식을 통한 개인비서 응용 AI\n",
        " * ### 인공지능 이미지 분야(Amazon Rekognition)\n",
        " 어플리케이션에 추가하여 이미지 분석,식별하는 인공지능 서비스\n",
        " * ### 인공지능 자율주행 분야(네이버랩스 Around)\n",
        " 매핑로봇, 맵클라우드 기반 실내자율주행 로봇 서비스\n",
        "\n",
        "\n",
        "-----\n",
        "\n",
        "# <분야별 링크>\n",
        "## 1. [언어 번역 서비스 파파고](https://m.post.naver.com/viewer/postView.nhn?volumeNo=5446014&memberNo=1217380&vType=VERTICAL)\n",
        "\n",
        "![파파고](https://t1.daumcdn.net/cfile/tistory/2516FA3B5822C4112E)\n",
        "\n",
        "## 2. [음성 인식 서비스 아이폰 시리 소개](https://blog.naver.com/parkjw10004/221431740835)\n",
        "\n",
        "![시리 사용법](https://t1.daumcdn.net/cfile/tistory/227FC438565703FA0F)\n",
        "\n",
        "## 3. [이미지 분석 인공지능(Amazon Rekognition)](http://www.avansoft.co.kr/main/sub.asp?avan=1016030000)\n",
        "\n",
        "![Amazon Rekognition](http://www.avansoft.co.kr/main/images/reko_img01.png)\n",
        "\n",
        "## 4. [자율주행 로봇 서비스 네이버랩스 Around](https://www.naverlabs.com/around)\n",
        "\n",
        "![Around](https://www.naverlabs.com/img/around/img_layer_article4.png)"
      ]
    }
  ]
}