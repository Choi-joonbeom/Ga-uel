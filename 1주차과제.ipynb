{
  "nbformat": 4,
  "nbformat_minor": 0,
  "metadata": {
    "colab": {
      "name": "1주차과제.ipynb",
      "provenance": [],
      "authorship_tag": "ABX9TyPKdwdYc0lJZVF/L1Uf0j2U",
      "include_colab_link": true
    },
    "kernelspec": {
      "name": "python3",
      "display_name": "Python 3"
    }
  },
  "cells": [
    {
      "cell_type": "markdown",
      "metadata": {
        "id": "view-in-github",
        "colab_type": "text"
      },
      "source": [
        "<a href=\"https://colab.research.google.com/github/Choi-joonbeom/Ga-uel/blob/master/1%EC%A3%BC%EC%B0%A8%EA%B3%BC%EC%A0%9C.ipynb\" target=\"_parent\"><img src=\"https://colab.research.google.com/assets/colab-badge.svg\" alt=\"Open In Colab\"/></a>"
      ]
    },
    {
      "cell_type": "markdown",
      "metadata": {
        "id": "EO7e23QLvAWX",
        "colab_type": "text"
      },
      "source": [
        "[1. 인공지능 전자제품\n",
        " LG V30S ThinQ, 올레드 TV AI ThinQ, 클로이 로봇, 씽큐 허브 ](https://social.lge.co.kr/technology/ai_dictionary/)         \n",
        "  　(언어,음성,이미지,자율주행 적용)\n",
        "\n",
        "[2. 인공지능 자율주행 로봇 유튜브 영상 - [위고코리아] SLAM기반의 자율주행 서비스 로봇](https://www.youtube.com/watch?v=zBvdchvb06g)"
      ]
    }
  ]
}