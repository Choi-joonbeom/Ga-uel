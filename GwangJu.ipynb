{
  "nbformat": 4,
  "nbformat_minor": 0,
  "metadata": {
    "colab": {
      "name": "GwangJu.ipynb",
      "provenance": [],
      "collapsed_sections": [],
      "authorship_tag": "ABX9TyOA3iRuWvQJD/7wPpXEuhYh",
      "include_colab_link": true
    },
    "kernelspec": {
      "name": "python3",
      "display_name": "Python 3"
    }
  },
  "cells": [
    {
      "cell_type": "markdown",
      "metadata": {
        "id": "view-in-github",
        "colab_type": "text"
      },
      "source": [
        "<a href=\"https://colab.research.google.com/github/Choi-joonbeom/Ga-uel/blob/master/GwangJu.ipynb\" target=\"_parent\"><img src=\"https://colab.research.google.com/assets/colab-badge.svg\" alt=\"Open In Colab\"/></a>"
      ]
    },
    {
      "cell_type": "markdown",
      "metadata": {
        "id": "EO7e23QLvAWX",
        "colab_type": "text"
      },
      "source": [
        "[인공지능 음성,언어,이미지 제품](https://social.lge.co.kr/technology/ai_dictionary/)\n",
        "\n",
        "[인공지능 자율주행 제품](https://www.youtube.com/watch?v=zBvdchvb06g)"
      ]
    },
    {
      "cell_type": "code",
      "metadata": {
        "id": "ATVUH-MBu92X",
        "colab_type": "code",
        "colab": {}
      },
      "source": [
        ""
      ],
      "execution_count": 0,
      "outputs": []
    }
  ]
}